{
  "nbformat": 4,
  "nbformat_minor": 0,
  "metadata": {
    "colab": {
      "provenance": []
    },
    "kernelspec": {
      "name": "python3",
      "display_name": "Python 3"
    },
    "language_info": {
      "name": "python"
    }
  },
  "cells": [
    {
      "cell_type": "code",
      "execution_count": null,
      "metadata": {
        "id": "GydAgb_qW_nD"
      },
      "outputs": [],
      "source": [
        "import numpy as np\n",
        "import pandas as pd\n",
        "from sklearn.linear_model import LinearRegression\n",
        "\n",
        "# Load the data\n",
        "df = pd.read_excel('/content/sample_data/PQ_FinalDataset_GS_MH.xls')\n",
        "print(df.columns)\n"
      ]
    },
    {
      "cell_type": "markdown",
      "source": [
        "DATA CLEANING"
      ],
      "metadata": {
        "id": "FovNsmYNXSpF"
      }
    },
    {
      "cell_type": "code",
      "source": [
        "# Selecting which variables to keep\n",
        "#variables_to_keep = ['pq_study_id_unique', 'ct_home', 'zip_home', 'age', 'sex', 'income', 'incomecat', 'racecat', 'lat', 'ndvi_mean', 'cesd_Score', 'PSS10_raw_score','glucose_mgdl' 'cholesterol_result','dia', 'edu', 'ndvi_mean_400m', 'parkarea_400m', 'walkabilitymean_400m', 'survey2_q1']\n",
        "#df = df[variables_to_keep]\n",
        "\n",
        "# Turning strings to numbers\n",
        "df['cesd_Score'] = pd.to_numeric(df['cesd_Score'], errors='coerce')\n",
        "df['PSS10_raw_score'] = pd.to_numeric(df['PSS10_raw_score'], errors='coerce')\n",
        "\n",
        "# print the name of categories in incomecat\n",
        "categories_incomecat = df['incomecat'].unique()\n",
        "print(categories_incomecat)\n",
        "# Get the number of unique categories in the \"category_column incomecat\"\n",
        "num_categories_incomecat = df[\"incomecat\"].nunique()\n",
        "print(\"Number of unique categories -incomecat:\", num_categories_incomecat)\n",
        "\n",
        "# print the name of categories in racecat\n",
        "categories_racecat = df['racecat'].unique()\n",
        "print(categories_racecat)\n",
        "# Get the number of unique categories in the \"category_column racecat\"\n",
        "num_categories_racecat = df[\"racecat\"].nunique()\n",
        "print(\"Number of unique categories -racecat:\", num_categories_racecat)\n",
        "# Creating updated categorical variables\n",
        "df['incomecat1'] = None\n",
        "# Replace values based on income category conditions\n",
        "df.loc[df[\"incomecat\"]==\"30k or less\", \"incomecat1\"] = 1\n",
        "df.loc[df[\"incomecat\"]==\"30k-55k\", \"incomecat1\"] = 2\n",
        "df.loc[df[\"incomecat\"]==\"55k+\", \"incomecat1\"] = 3\n",
        "\n",
        "# Print the new \"incomecat1\" column\n",
        "print(df[\"incomecat1\"])\n",
        "\n",
        "df['racecat1'] = None\n",
        "# Replace values based on racecat category conditions\n",
        "df.loc[df['racecat'] == 'White', 'racecat1'] = 1\n",
        "df.loc[df['racecat'] == 'African American', 'racecat1'] = 2\n",
        "df.loc[df['racecat'] == 'Asian', 'racecat1'] = 3\n",
        "df.loc[df['racecat'] == 'Native American', 'racecat1'] = 4\n",
        "df.loc[df['racecat'] == 'Pacific Islander', 'racecat1'] = 5\n",
        "df.loc[df['racecat'] == 'Unknown/Other', 'racecat1'] = 6\n",
        "# Print the new \"racecat1\" column\n",
        "print(df[\"racecat1\"])\n",
        "# drop columns named incomecat and racecat\n",
        "df = df.drop(columns=['incomecat', 'racecat'])\n",
        "# rename incomecat1 and racecat1 columns to incomecat and racecat\n",
        "df = df.rename(columns={'incomecat1': 'incomecat', 'racecat1': 'racecat'})\n",
        "print(df[\"racecat\"])\n",
        "print(df[\"incomecat\"])\n",
        "print(df[\"sex\"])\n",
        "# print the name of categories in racecat\n",
        "categories_sex = df['sex'].unique()\n",
        "print(categories_sex)\n",
        "# Replace values based on sex category conditions\n",
        "df['sex1'] = None\n",
        "\n",
        "df.loc[df['sex'] == 'Female', 'sex1'] = 0\n",
        "df.loc[df['sex'] == 'Male', 'sex1'] = 1\n",
        "print(df[\"sex1\"])\n",
        "# drop columns named sex\n",
        "df = df.drop(columns=['sex'])\n",
        "# rename sex1 to sex\n",
        "df = df.rename(columns={'sex1': 'sex'})\n",
        "\n",
        "print(df[\"lat\"])\n",
        "# print the name of categories in lat\n",
        "categories_lat = df['lat'].unique()\n",
        "print(categories_lat)\n",
        "# Replace values based on shispanci or not hispanic category conditions\n",
        "df['lat1'] = None\n",
        "\n",
        "df.loc[df['lat'] == 'Not Hispanic', 'lat1'] = 0\n",
        "df.loc[df['lat'] == 'Hispanic', 'lat1'] = 1\n",
        "# drop columns named lat\n",
        "df = df.drop(columns=['lat'])\n",
        "# rename lat1 to lat\n",
        "df = df.rename(columns={'lat1': 'lat'})\n",
        "print(df[\"lat\"])\n",
        "\n",
        "print(df[\"income\"])\n",
        "\n",
        "# print the name of categories in income\n",
        "categories_income = df['income'].unique()\n",
        "print(categories_income)\n",
        "num_categories_income = df[\"income\"].nunique()\n",
        "print(\"Number of unique categories -income:\", num_categories_income)\n",
        "\n",
        "# Replace values based on income category conditions\n",
        "df['income1'] = None\n",
        "\n",
        "df.loc[df['income'] == '$6,000 or more', 'income1'] = 0\n",
        "df.loc[df['income'] == '$5,000 - $5,999', 'income1'] = 1\n",
        "df.loc[df['income'] == '$4,500 - $4,999', 'income1'] = 2\n",
        "df.loc[df['income'] == '$4,000 - $4,499', 'income1'] = 3\n",
        "df.loc[df['income'] == '$3,500 - $3,999', 'income1'] = 4\n",
        "df.loc[df['income'] == '$3,000 - $3,499', 'income1'] = 5\n",
        "df.loc[df['income'] == '$2,500 - $2,999', 'income1'] = 6\n",
        "df.loc[df['income'] == '$2,000 - $2,499', 'income1'] = 7\n",
        "df.loc[df['income'] == '$1,500 - $1,999', 'income1'] = 8\n",
        "df.loc[df['income'] == '$1,000 - $1,499', 'income1'] = 9\n",
        "df.loc[df['income'] == '$500 - $999', 'income1'] = 10\n",
        "df.loc[df['income'] == 'Less than $500', 'income1'] = 11\n",
        "\n",
        "# drop columns named income\n",
        "df = df.drop(columns=['income'])\n",
        "# rename income1 to income\n",
        "df = df.rename(columns={'income1': 'income'})\n",
        "print(df[\"income\"])\n",
        "\n",
        "print(df[\"age\"])\n",
        "# create new column \"age_65\"\n",
        "df[\"age_65\"] = np.where(df[\"age\"] >= 65, 1, 0)\n",
        "\n",
        "# create label dictionary\n",
        "#label_dict = {0: \"Under 65\", 1: \"65 or older\"}\n",
        "# apply label dictionary to \"age_65\" column : this would print under 65 and 65 pr older\n",
        "#df[\"age_65\"] = df[\"age_65\"].replace(label_dict)\n",
        "# drop columns named age\n",
        "df = df.drop(columns=['age'])\n",
        "# rename income1 to income\n",
        "df = df.rename(columns={'age_65': 'age'})\n",
        "print(df['age'])\n",
        "\n",
        "print(df['survey2_q1'])\n",
        "# create a new column 'employment' with default value 0\n",
        "df['employment'] = 0\n",
        "\n",
        "# set employment to 1 if survey2_q1 is \"Yes\"\n",
        "df.loc[df['survey2_q1'] == 'Yes', 'employment'] = 1\n",
        "\n",
        "# create a dictionary to map label values\n",
        "employment_label_dict = {0: 'No', 1: 'Yes'}\n",
        "\n",
        "# use the dictionary to replace the values in the 'employment' column\n",
        "# df['employment'].replace(employment_label_dict, inplace=True)\n",
        "\n",
        "df = df.drop(columns=['survey2_q1'])\n",
        "print(df['employment'])\n",
        "\n",
        "\n",
        "df = df.drop(columns=['edu','education','educcat','min','dec1','dec2','dec3','dec4','dec5','dec6','dec7','dec8','dec9','max','dec','min_kde','dec1_kde','dec2_kde','dec3_kde','dec4_kde','dec5_kde','dec6_kde','dec7_kde','dec8_kde','dec9_kde','max_kde','dec_kde'])\n",
        "print(df.columns)\n",
        "df.to_csv(\"datacleaned_df.csv\")"
      ],
      "metadata": {
        "id": "DV2L5jaEXQCx"
      },
      "execution_count": null,
      "outputs": []
    },
    {
      "cell_type": "code",
      "source": [
        "# Generate summary statistics for the ndvi_mean_400m column\n",
        "ndvi_stats = df['ndvi_mean_400m'].describe()\n",
        "print(ndvi_stats)\n",
        "# Print the summary statistics table\n",
        "print('Variable |        Obs        Mean    Std. Dev.       Min        Max')\n",
        "print('---------+---------------------------------------------------------')\n",
        "print(f'ndvi_me~400m |{ndvi_stats[\"count\"]:>10} {ndvi_stats[\"mean\"]:>13.6f} {ndvi_stats[\"std\"]:>13.6f} {ndvi_stats[\"min\"]:>12.6f} {ndvi_stats[\"max\"]:>12.6f}')"
      ],
      "metadata": {
        "id": "Y5mTVzKWYOKK"
      },
      "execution_count": null,
      "outputs": []
    },
    {
      "cell_type": "code",
      "source": [
        "# Calculate percentiles from 10% to 100% with an interval of 10%\n",
        "percentiles = np.percentile(df['ndvi_mean_400m'], range(10, 101, 10))\n",
        "\n",
        "# Print the percentiles\n",
        "print(percentiles)\n",
        "# Print each percentile value with its corresponding percentile label\n",
        "for i, p in enumerate(percentiles):\n",
        "    print(f\"{(i+1)*10}%: {p}\")"
      ],
      "metadata": {
        "id": "ZyU9dkm1YgGm"
      },
      "execution_count": null,
      "outputs": []
    },
    {
      "cell_type": "code",
      "source": [
        "print(df.columns)"
      ],
      "metadata": {
        "id": "hTh1Niht0rQ5",
        "colab": {
          "base_uri": "https://localhost:8080/"
        },
        "outputId": "56a2ff6b-ef24-44e7-a8e8-fa5657ad51ca"
      },
      "execution_count": null,
      "outputs": [
        {
          "output_type": "stream",
          "name": "stdout",
          "text": [
            "Index(['pq_study_id_unique', 'ct_home', 'zip_home', 'bmi', 'bmicat',\n",
            "       'ndvi_mean', 'cesd_Score', 'PSS10_raw_score', 'cholesterol_result',\n",
            "       'ldl_calculated_result', 'triglyceride_result', 'hemoglobin_a1c_result',\n",
            "       'glucose_mgdl', 'sys', 'dia', 'dyslipidemia', 'mets_nomeds_recalc',\n",
            "       'meds_for_mets', 'ndvi_mean_400m', 'parkarea_400m',\n",
            "       'walkabilitymean_400m', 'kde_ndvi_mean', 'age', 'employment', 'ndvi_sq',\n",
            "       'incomecat', 'racecat', 'sex', 'lat', 'income'],\n",
            "      dtype='object')\n"
          ]
        }
      ]
    },
    {
      "cell_type": "code",
      "source": [
        "# Calculate descriptive statistics for column 'age'\n",
        "#stats = df['age'].describe()\n",
        "\n",
        "# Print the results\n",
        "#print(stats)\n",
        "\n",
        "# Group the dataframe by the 'Category' column and calculate descriptive statistics for each group\n",
        "# Calculate descriptive statistics for values of 1 in the 'Age' column\n",
        "#label_dict = {0: \"Under 65\", 1: \"65 or older\"}\n",
        "#label_dict = { 1: \"65 or older\"}\n",
        "age_1_stats = df[df['age'] == 1]['age'].describe()\n",
        "#label_dict = { 0: \"Under 65\"}\n",
        "# Calculate descriptive statistics for values of 0 in the 'Age' column\n",
        "age_0_stats = df[df['age'] == 0]['age'].describe()\n",
        "\n",
        "# Print the results\n",
        "print(\"Descriptive statistics for 65 or older = 1:\\n\", age_1_stats)\n",
        "print(\"\\nDescriptive statistics for Under 65 = 0:\\n\", age_0_stats)"
      ],
      "metadata": {
        "id": "Ad92gr0mEJgJ"
      },
      "execution_count": null,
      "outputs": []
    },
    {
      "cell_type": "code",
      "source": [
        "# Calculate descriptive statistics for values of 1 in the 'sex' column\n",
        "#label_dict = { 1: \"Male\"}\n",
        "sex_1_stats = df[df['sex'] == 1]['sex'].describe()\n",
        "#label_dict = { 0: \"Female\"}\n",
        "sex_0_stats = df[df['sex'] == 0]['sex'].describe()\n",
        "\n",
        "# Print the results\n",
        "print(\"Descriptive statistics for Male = 1:\\n\", sex_1_stats)\n",
        "print(\"\\nDescriptive statistics for Female = 0:\\n\", sex_0_stats)"
      ],
      "metadata": {
        "id": "zFdRt1JSJcnS"
      },
      "execution_count": null,
      "outputs": []
    },
    {
      "cell_type": "code",
      "source": [
        "# Calculate descriptive statistics for values of categories in the 'incomecat' column\n",
        "\n",
        "# values based on income category conditions\n",
        "\n",
        "#[df[\"incomecat\"]==\"30k or less\", \"incomecat1\"] = 1\n",
        "incomecat_1_stats = df[df['incomecat'] == 1]['incomecat'].describe()\n",
        "\n",
        "#[df[\"incomecat\"]==\"30k-55k\", \"incomecat1\"] = 2\n",
        "incomecat_2_stats = df[df['incomecat'] == 2]['incomecat'].describe()\n",
        "#[df[\"incomecat\"]==\"55k+\", \"incomecat1\"] = 3\n",
        "incomecat_3_stats = df[df['incomecat'] == 3]['incomecat'].describe()\n",
        "# Print the results\n",
        "print(\"Descriptive statistics for 30k or less = 1:\\n\", incomecat_1_stats)\n",
        "print(\"\\nDescriptive statistics for 30k-55k = 2:\\n\", incomecat_2_stats)\n",
        "print(\"\\nDescriptive statistics for 55k+ = 3:\\n\", incomecat_3_stats)"
      ],
      "metadata": {
        "id": "3NCMiyhmKFPy"
      },
      "execution_count": null,
      "outputs": []
    },
    {
      "cell_type": "code",
      "source": [
        "# Calculate descriptive statistics for values of categories in the 'racecat' column\n",
        "\n",
        "# values based on racecat category conditions\n",
        "\n",
        "#[df['racecat'] == 'White', 'racecat'] = 1\n",
        "racecat_1_stats = df[df['racecat'] == 1]['racecat'].describe()\n",
        "print(\"Descriptive statistics for White = 1:\\n\", racecat_1_stats)\n",
        "\n",
        "#[df['racecat'] == 'African American', 'racecat'] = 2\n",
        "racecat_2_stats = df[df['racecat'] == 2]['racecat'].describe()\n",
        "print(\"Descriptive statistics for African American = 1:\\n\", racecat_2_stats)\n",
        "\n",
        "#[df['racecat'] == 'Asian', 'racecat']= 3\n",
        "racecat_3_stats = df[df['racecat'] == 3]['racecat'].describe()\n",
        "print(\"Descriptive statistics for Asian = 1:\\n\", racecat_3_stats)\n",
        "\n",
        "#[df['racecat'] == 'Native American', 'racecat']= 4\n",
        "racecat_4_stats = df[df['racecat'] == 4]['racecat'].describe()\n",
        "print(\"Descriptive statistics for Native American = 1:\\n\", racecat_4_stats)\n",
        "\n",
        "#[df['racecat'] == 'Pacific Islander', 'racecat']= 5\n",
        "racecat_5_stats = df[df['racecat'] == 5]['racecat'].describe()\n",
        "print(\"Descriptive statistics for Pacific Islander = 1:\\n\", racecat_5_stats)\n",
        "\n",
        "#[df['racecat'] == 'Unknown/Other', 'racecat']= 6\n",
        "racecat_6_stats = df[df['racecat'] == 5]['racecat'].describe()\n",
        "print(\"Descriptive statistics for Unknown/Other = 1:\\n\", racecat_6_stats)\n",
        "\n"
      ],
      "metadata": {
        "id": "4pATdelaLnZ5"
      },
      "execution_count": null,
      "outputs": []
    },
    {
      "cell_type": "code",
      "source": [
        "# Calculate descriptive statistics for values of categories in the 'employment' column\n",
        "#label_dict = { 1: \"yes\"}\n",
        "employment_1_stats = df[df['employment'] == 1]['employment'].describe()\n",
        "#label_dict = { 0: 'No'}\n",
        "employment_0_stats = df[df['sex'] == 0]['sex'].describe()\n",
        "\n",
        "# Print the results\n",
        "print(\"Descriptive statistics for Employed = 1:\\n\", employment_1_stats)\n",
        "print(\"\\nDescriptive statistics for Unemployed = 0:\\n\", employment_0_stats)"
      ],
      "metadata": {
        "id": "EmM7K3puTCIX"
      },
      "execution_count": null,
      "outputs": []
    },
    {
      "cell_type": "code",
      "source": [
        "print(df.columns)"
      ],
      "metadata": {
        "id": "RjXp2bn-VqDe"
      },
      "execution_count": null,
      "outputs": []
    },
    {
      "cell_type": "code",
      "source": [
        "print(df['bmi'])"
      ],
      "metadata": {
        "id": "bpBe8juXYAN3"
      },
      "execution_count": null,
      "outputs": []
    },
    {
      "cell_type": "code",
      "source": [
        "#Descriptive Stats for Green Space Exposure and Diffrent Biomarker Outcomes\n",
        "\n",
        "# Calculate descriptive statistics for the 'Green_Space_Exposure' column\n",
        "green_space_stats = df['ndvi_mean_400m'].describe()\n",
        "# Print the results\n",
        "print(\"Descriptive statistics for Green Space Expsoure:\\n\", green_space_stats)\n",
        "# print(green_space_stats)\n",
        "\n",
        "# Calculate descriptive statistics for the Fasting Blood glucose Outcome\n",
        "Bloodglucose_stats = df['glucose_mgdl'].describe()\n",
        "# Print the results\n",
        "print(\"Descriptive statistics for Fasting Blood glucose Outcome:\\n\", Bloodglucose_stats)\n",
        "\n",
        "# Calculate descriptive statistics for the Cholesterol  Outcome\n",
        "Cholesterol_stats = df['cholesterol_result'].describe()\n",
        "# Print the results\n",
        "print(\"Descriptive statistics for Cholesterol Outcome:\\n\", Cholesterol_stats)\n",
        "\n",
        "# Calculate descriptive statistics for the Triglycerides Outcome\n",
        "Triglycerides_stats = df['triglyceride_result'].describe()\n",
        "# Print the results\n",
        "print(\"Descriptive statistics for Triglycerides Outcome:\\n\", Triglycerides_stats)\n",
        "\n",
        "# Calculate descriptive statistics for the LDL cholesterol Outcome\n",
        "LDL_cholesterol_stats = df['ldl_calculated_result'].describe()\n",
        "# Print the results\n",
        "print(\"Descriptive statistics for LDL cholesterol Outcome:\\n\", LDL_cholesterol_stats)\n",
        "\n",
        "# Calculate descriptive statistics for the Systolic Blood Pressure Outcome\n",
        "SysBP_stats = df['sys'].describe()\n",
        "# Print the results\n",
        "print(\"Descriptive statistics for Systolic Blood Pressure Outcome:\\n\", SysBP_stats)\n",
        "\n",
        "# Calculate descriptive statistics for the Diastolic Blood Pressure Outcome\n",
        "DiaBP_stats = df['dia'].describe()\n",
        "# Print the results\n",
        "print(\"Descriptive statistics for Diastolic Blood Pressure Outcome:\\n\", DiaBP_stats)\n",
        "\n",
        "# Calculate descriptive statistics for the Hemoglobin Outcome\n",
        "Hemoglobin_stats = df['hemoglobin_a1c_result'].describe()\n",
        "# Print the results\n",
        "print(\"Descriptive statistics for Hemoglobin Outcome:\\n\", Hemoglobin_stats)\n",
        "\n",
        "\n",
        "# Calculate descriptive statistics for the BMI (Body Mass Index) Outcome\n",
        "BMI_stats = df['bmi'].describe()\n",
        "# Print the results\n",
        "print(\"Descriptive statistics for BMI (Body Mass Index) Outcome:\\n\", BMI_stats)\n"
      ],
      "metadata": {
        "id": "O4-BAPTQTvKO"
      },
      "execution_count": null,
      "outputs": []
    },
    {
      "cell_type": "code",
      "source": [
        "\n",
        "#Table 3. Unadjusted associations table: This table would show the unadjusted association between the  Green Space exposure variable and the Biomarker outcome variable using a regression model.\n",
        "#This would help to determine the strength and direction of the association before adjusting for confounding factors.\n",
        "\n",
        "import pandas as pd\n",
        "import statsmodels.api as sm\n",
        "\n",
        "# Load data into a pandas DataFrame\n",
        "#data = pd.read_csv('my_data.csv')\n",
        "\n",
        "# Define a list of outcome variables\n",
        "outcomes = ['glucose_mgdl', 'cholesterol_result', 'ldl_calculated_result', 'triglyceride_result', 'sys', 'dia', 'hemoglobin_a1c_result']\n",
        "\n",
        "# Create an empty list to store the results for each outcome variable\n",
        "results = []\n",
        "\n",
        "# Loop over each outcome variable and fit a regression model\n",
        "for outcome in outcomes:\n",
        "    model = sm.OLS(df[outcome], df['ndvi_mean_400m']).fit()\n",
        "\n",
        "    # Add the results for this outcome variable to the list\n",
        "    results.append({'Outcome': outcome,\n",
        "                    'Coefficient': model.params[0],\n",
        "                    'Standard Error': model.bse[0],\n",
        "                    '95% CI Lower': model.conf_int()[0][0],\n",
        "                    '95% CI Upper': model.conf_int()[0][1]})\n",
        "\n",
        "# Convert the list of results to a DataFrame\n",
        "unadjusted_table = pd.DataFrame(results)\n",
        "\n",
        "# Display the unadjusted association table\n",
        "print(unadjusted_table)\n"
      ],
      "metadata": {
        "id": "Kw_jCwjm7_Db"
      },
      "execution_count": null,
      "outputs": []
    },
    {
      "cell_type": "code",
      "source": [
        "#G-Computation\n",
        "\n",
        "\n",
        "import pandas as pd\n",
        "import numpy as np\n",
        "import statsmodels.api as sm\n",
        "\n",
        "\n",
        "# Select relevant variables\n",
        "df = df[['ndvi_mean_400m', 'glucose_mgdl', 'incomecat', 'racecat', 'sex', 'income']]\n",
        "\n",
        "# Replacing missing values with 0\n",
        "df = df.fillna(0)\n",
        "# Step 3: Fit the exposure model\n",
        "exposure_model = sm.Logit(endog=data['green_space_exposure'], exog=data[['age', 'gender', 'BMI', 'income']]).fit()\n",
        "\n",
        "# Step 4: Fit the outcome model\n",
        "outcome_model = sm.OLS(endog=df['glucose_mgdl'], exog=df[['ndvi_mean_400m', 'incomecat', 'racecat', 'sex', 'income']]).fit()\n",
        "\n"
      ],
      "metadata": {
        "id": "lskM8LM3yuv5"
      },
      "execution_count": null,
      "outputs": []
    },
    {
      "cell_type": "code",
      "source": [
        "# Step 5: Generate counterfactual data\n",
        "#green_space_levels = np.arange(0, 1, 0.1) # Range of green space exposure levels to consider\n",
        "green_space_levels = np.percentile(df['ndvi_mean_400m'], range(10, 101, 10))\n",
        "counterfactual_data = []\n",
        "for i in range(len(green_space_levels)):\n",
        "    counterfactual_data.append(df.copy())\n",
        "    counterfactual_data[-1]['ndvi_mean_400m'] = green_space_levels[i]\n",
        "    print('Counterfactual data shape for green space level', green_space_levels[i], ':', counterfactual_data[-1].shape)\n",
        "\n"
      ],
      "metadata": {
        "id": "LeaJxIlG1hIg"
      },
      "execution_count": null,
      "outputs": []
    },
    {
      "cell_type": "code",
      "source": [
        "# Step 6: Estimate the counterfactual outcomes\n",
        "counterfactual_glucose_levels = []\n",
        "for data in counterfactual_data:\n",
        "    predicted_glucose = outcome_model.predict(data[['ndvi_mean_400m', 'incomecat', 'racecat', 'sex', 'income']])\n",
        "    counterfactual_glucose_levels.append(predicted_glucose)\n"
      ],
      "metadata": {
        "id": "fxNxmPrB5L2k"
      },
      "execution_count": null,
      "outputs": []
    },
    {
      "cell_type": "code",
      "source": [
        "# Print the output\n",
        "for i in range(len(green_space_levels)):\n",
        "    print('Predicted glucose levels for green space level', green_space_levels[i], ':', counterfactual_glucose_levels[i])"
      ],
      "metadata": {
        "id": "mbldziAR5fWS"
      },
      "execution_count": null,
      "outputs": []
    },
    {
      "cell_type": "code",
      "source": [
        "# Step 7: Compute the causal effect\n",
        "# Calculate the causal effect of green space exposure on glucose levels using the counterfactual outcomes.\n",
        "# For example, using the difference in the mean glucose levels at the highest and lowest levels of green space exposure:\n",
        "causal_effect = np.mean(counterfactual_glucose_levels[-1]) - np.mean(counterfactual_glucose_levels[0])\n",
        "print('Causal effect of green space exposure on glucose levels:', causal_effect)\n"
      ],
      "metadata": {
        "colab": {
          "base_uri": "https://localhost:8080/"
        },
        "id": "ymg31bxw6T2k",
        "outputId": "610dc754-dba0-4547-8f37-948548b31223"
      },
      "execution_count": null,
      "outputs": [
        {
          "output_type": "stream",
          "name": "stdout",
          "text": [
            "Causal effect of green space exposure on glucose levels: -2.0403610373222136\n"
          ]
        }
      ]
    }
  ]
}